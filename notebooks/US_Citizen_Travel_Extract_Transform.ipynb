{
 "cells": [
  {
   "cell_type": "code",
   "execution_count": 2,
   "metadata": {},
   "outputs": [],
   "source": [
    "import pandas as pd\n",
    "import glob\n",
    "# import seaborn as sns\n",
    "# import matplotlib.pyplot as plt\n",
    "# import numpy as np\n",
    "# import geopandas as gpd\n",
    "# from shapely.geometry import Point\n",
    "# import folium\n",
    "# from folium.plugins import MarkerCluster\n",
    "# from folium.plugins import FastMarkerCluster\n"
   ]
  },
  {
   "cell_type": "code",
   "execution_count": null,
   "metadata": {},
   "outputs": [],
   "source": []
  },
  {
   "cell_type": "code",
   "execution_count": 23,
   "metadata": {},
   "outputs": [
    {
     "name": "stdout",
     "output_type": "stream",
     "text": [
      "1996\n",
      "1997\n",
      "1998\n",
      "1999\n",
      "2000\n",
      "2001\n",
      "2002\n",
      "2003\n",
      "2004\n",
      "2005\n",
      "2006\n",
      "2007\n",
      "2008\n",
      "2009\n",
      "2010\n",
      "2011\n",
      "2012\n",
      "2013\n",
      "2014\n",
      "2015\n",
      "2016\n",
      "2017\n",
      "2018\n",
      "2019\n",
      "           Regions month  value  year\n",
      "0           Africa   Jan   10.3  1996\n",
      "1             Asia   Jan  259.6  1996\n",
      "2           Canada   Jan  156.2  1996\n",
      "3        Caribbean   Jan  312.8  1996\n",
      "4  Central America   Jan   85.6  1996\n",
      "(3096, 4)\n"
     ]
    }
   ],
   "source": [
    "outbound_df = pd.DataFrame()\n",
    "\n",
    "for year in range(1996,2020):\n",
    "    current_df = pd.read_excel('../data/outbound.xlsx', sheet_name = str(year) + '_out')\n",
    "    current_df = pd.melt(current_df, id_vars=['Regions'], var_name = 'month')\n",
    "    current_df['year'] = year\n",
    "    outbound_df = outbound_df.append(current_df, ignore_index=True)\n",
    "\n",
    "print(outbound_df.head())\n",
    "print(outbound_df.shape)\n"
   ]
  },
  {
   "cell_type": "code",
   "execution_count": 24,
   "metadata": {},
   "outputs": [],
   "source": [
    "outbound_df.to_csv(\"../data/outbound.csv\")"
   ]
  }
 ],
 "metadata": {
  "kernelspec": {
   "display_name": "Python 3",
   "language": "python",
   "name": "python3"
  },
  "language_info": {
   "codemirror_mode": {
    "name": "ipython",
    "version": 3
   },
   "file_extension": ".py",
   "mimetype": "text/x-python",
   "name": "python",
   "nbconvert_exporter": "python",
   "pygments_lexer": "ipython3",
   "version": "3.7.7"
  }
 },
 "nbformat": 4,
 "nbformat_minor": 4
}
