{
 "cells": [
  {
   "cell_type": "code",
   "execution_count": 1,
   "metadata": {},
   "outputs": [],
   "source": [
    "import pandas as pd\n",
    "from datetime import datetime\n",
    "import numpy as np\n"
   ]
  },
  {
   "cell_type": "markdown",
   "metadata": {},
   "source": [
    "### Data was manually scraped since there weren't that many pages or fields for copy into a spreadsheet and preliminary cleaning was performed that included removing subtotals and totals lines across both axes. Then each sheet is appended to a the outbound_df dataframe with a year column added and taken from a wide table to a tall format with melt. In addition, prior to 2000, the numbers were reported in thousands so the math was done so all numbers would be comparable. "
   ]
  },
  {
   "cell_type": "code",
   "execution_count": 2,
   "metadata": {},
   "outputs": [
    {
     "name": "stdout",
     "output_type": "stream",
     "text": [
      "           Regions month  travelers  year\n",
      "0           Africa   Jan    10300.0  1996\n",
      "1             Asia   Jan   259600.0  1996\n",
      "2           Canada   Jan   156200.0  1996\n",
      "3        Caribbean   Jan   312800.0  1996\n",
      "4  Central America   Jan    85600.0  1996\n",
      "(2880, 4)\n"
     ]
    }
   ],
   "source": [
    "outbound_df = pd.DataFrame()\n",
    "\n",
    "for year in range(1996,2020):\n",
    "    if year < 2000:\n",
    "        current_df = pd.read_excel('../data/outbound.xlsx', sheet_name = str(year) + '_out')\n",
    "        current_df = pd.melt(current_df, id_vars=['Regions'], var_name = 'month', value_name = 'travelers')\n",
    "        current_df['year'] = year\n",
    "        current_df['travelers'] = current_df['travelers'] * 1000\n",
    "        outbound_df = outbound_df.append(current_df, ignore_index=True)\n",
    "    else:\n",
    "        current_df = pd.read_excel('../data/outbound.xlsx', sheet_name = str(year) + '_out')\n",
    "        current_df = pd.melt(current_df, id_vars=['Regions'], var_name = 'month', value_name = 'travelers')\n",
    "        current_df['year'] = year\n",
    "        outbound_df = outbound_df.append(current_df, ignore_index=True)\n",
    "        \n",
    "outbound_df = outbound_df.reset_index(drop=True)\n",
    "\n",
    "print(outbound_df.head())\n",
    "print(outbound_df.shape)\n"
   ]
  },
  {
   "cell_type": "code",
   "execution_count": null,
   "metadata": {},
   "outputs": [],
   "source": []
  },
  {
   "cell_type": "code",
   "execution_count": 3,
   "metadata": {
    "scrolled": true
   },
   "outputs": [
    {
     "name": "stderr",
     "output_type": "stream",
     "text": [
      "C:\\Users\\starr\\anaconda3\\envs\\geo\\lib\\site-packages\\ipykernel_launcher.py:8: SettingWithCopyWarning: \n",
      "A value is trying to be set on a copy of a slice from a DataFrame\n",
      "\n",
      "See the caveats in the documentation: https://pandas.pydata.org/pandas-docs/stable/user_guide/indexing.html#returning-a-view-versus-a-copy\n",
      "  \n"
     ]
    },
    {
     "data": {
      "text/html": [
       "<div>\n",
       "<style scoped>\n",
       "    .dataframe tbody tr th:only-of-type {\n",
       "        vertical-align: middle;\n",
       "    }\n",
       "\n",
       "    .dataframe tbody tr th {\n",
       "        vertical-align: top;\n",
       "    }\n",
       "\n",
       "    .dataframe thead th {\n",
       "        text-align: right;\n",
       "    }\n",
       "</style>\n",
       "<table border=\"1\" class=\"dataframe\">\n",
       "  <thead>\n",
       "    <tr style=\"text-align: right;\">\n",
       "      <th></th>\n",
       "      <th>Regions</th>\n",
       "      <th>travelers</th>\n",
       "      <th>date</th>\n",
       "    </tr>\n",
       "  </thead>\n",
       "  <tbody>\n",
       "    <tr>\n",
       "      <th>0</th>\n",
       "      <td>Africa</td>\n",
       "      <td>10300.0</td>\n",
       "      <td>1996-01-01</td>\n",
       "    </tr>\n",
       "    <tr>\n",
       "      <th>1</th>\n",
       "      <td>Asia</td>\n",
       "      <td>259600.0</td>\n",
       "      <td>1996-01-01</td>\n",
       "    </tr>\n",
       "    <tr>\n",
       "      <th>2</th>\n",
       "      <td>Canada</td>\n",
       "      <td>156200.0</td>\n",
       "      <td>1996-01-01</td>\n",
       "    </tr>\n",
       "    <tr>\n",
       "      <th>3</th>\n",
       "      <td>Caribbean</td>\n",
       "      <td>312800.0</td>\n",
       "      <td>1996-01-01</td>\n",
       "    </tr>\n",
       "    <tr>\n",
       "      <th>4</th>\n",
       "      <td>Central America</td>\n",
       "      <td>85600.0</td>\n",
       "      <td>1996-01-01</td>\n",
       "    </tr>\n",
       "    <tr>\n",
       "      <th>5</th>\n",
       "      <td>Europe</td>\n",
       "      <td>500100.0</td>\n",
       "      <td>1996-01-01</td>\n",
       "    </tr>\n",
       "    <tr>\n",
       "      <th>6</th>\n",
       "      <td>Mexico</td>\n",
       "      <td>317500.0</td>\n",
       "      <td>1996-01-01</td>\n",
       "    </tr>\n",
       "    <tr>\n",
       "      <th>7</th>\n",
       "      <td>Middle East</td>\n",
       "      <td>31600.0</td>\n",
       "      <td>1996-01-01</td>\n",
       "    </tr>\n",
       "    <tr>\n",
       "      <th>8</th>\n",
       "      <td>Oceania</td>\n",
       "      <td>57200.0</td>\n",
       "      <td>1996-01-01</td>\n",
       "    </tr>\n",
       "    <tr>\n",
       "      <th>9</th>\n",
       "      <td>South America</td>\n",
       "      <td>117900.0</td>\n",
       "      <td>1996-01-01</td>\n",
       "    </tr>\n",
       "  </tbody>\n",
       "</table>\n",
       "</div>"
      ],
      "text/plain": [
       "           Regions  travelers        date\n",
       "0           Africa    10300.0  1996-01-01\n",
       "1             Asia   259600.0  1996-01-01\n",
       "2           Canada   156200.0  1996-01-01\n",
       "3        Caribbean   312800.0  1996-01-01\n",
       "4  Central America    85600.0  1996-01-01\n",
       "5           Europe   500100.0  1996-01-01\n",
       "6           Mexico   317500.0  1996-01-01\n",
       "7      Middle East    31600.0  1996-01-01\n",
       "8          Oceania    57200.0  1996-01-01\n",
       "9    South America   117900.0  1996-01-01"
      ]
     },
     "execution_count": 3,
     "metadata": {},
     "output_type": "execute_result"
    }
   ],
   "source": [
    "# changes date from 2 columns of month and year to one column date to match other files\n",
    "\n",
    "outbound_df['date'] = ''\n",
    "\n",
    "\n",
    "for i in range(len(outbound_df['month'])):\n",
    "    temp = outbound_df.month[i].strip() + ' ' + str(outbound_df.year[i])\n",
    "    outbound_df['date'][i] = datetime.strptime(temp, '%b %Y').strftime('%Y-%m-01')\n",
    "\n",
    "outbound_df = outbound_df.drop(columns = ['month', 'year'])\n",
    "\n",
    "outbound_df.head(10)"
   ]
  },
  {
   "cell_type": "code",
   "execution_count": 4,
   "metadata": {},
   "outputs": [],
   "source": [
    "outbound_df.to_csv(\"../data/outbound.csv\", index = False)"
   ]
  },
  {
   "cell_type": "code",
   "execution_count": null,
   "metadata": {},
   "outputs": [],
   "source": []
  },
  {
   "cell_type": "code",
   "execution_count": null,
   "metadata": {},
   "outputs": [],
   "source": []
  },
  {
   "cell_type": "code",
   "execution_count": null,
   "metadata": {},
   "outputs": [],
   "source": []
  }
 ],
 "metadata": {
  "kernelspec": {
   "display_name": "Python 3",
   "language": "python",
   "name": "python3"
  },
  "language_info": {
   "codemirror_mode": {
    "name": "ipython",
    "version": 3
   },
   "file_extension": ".py",
   "mimetype": "text/x-python",
   "name": "python",
   "nbconvert_exporter": "python",
   "pygments_lexer": "ipython3",
   "version": "3.7.7"
  }
 },
 "nbformat": 4,
 "nbformat_minor": 4
}
