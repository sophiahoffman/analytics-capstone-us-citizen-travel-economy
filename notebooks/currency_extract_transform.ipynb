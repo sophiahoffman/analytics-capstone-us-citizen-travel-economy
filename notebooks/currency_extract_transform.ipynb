{
 "cells": [
  {
   "cell_type": "code",
   "execution_count": 1,
   "metadata": {},
   "outputs": [],
   "source": [
    "import pandas as pd\n",
    "from datetime import datetime\n",
    "import glob\n",
    "\n",
    "# import seaborn as sns\n",
    "# import matplotlib.pyplot as plt\n",
    "# import numpy as np\n",
    "# import geopandas as gpd\n",
    "# from shapely.geometry import Point\n",
    "# import folium\n",
    "# from folium.plugins import MarkerCluster\n",
    "# from folium.plugins import FastMarkerCluster\n"
   ]
  },
  {
   "cell_type": "markdown",
   "metadata": {},
   "source": [
    "### Due to the exchange rates being non uniform in their method of using either USD or the foreign currency in their reporting, conversion must be done to ensure all currencies are shown in the USD.  \n",
    "Represented currencies are:\n",
    "Oceania - Australia * AUD\n",
    "Africa - South Africa ZAR\n",
    "Asia - Japan JPY\n",
    "Canada - Canada CAD\n",
    "Mexico - Mexico MXN\n",
    "South America - Brazil BRL\n",
    "Middle East - dollar currency/pegged at 3.5SAR to the USD\n",
    "Europe - Sterling * /Euro *\n",
    "Caribbean - BSD pegged to USD 1:1"
   ]
  },
  {
   "cell_type": "code",
   "execution_count": 2,
   "metadata": {},
   "outputs": [
    {
     "name": "stdout",
     "output_type": "stream",
     "text": [
      "(2926, 4)\n",
      "         date   ex_us    country  Regions\n",
      "0  1996-01-01  0.7417  australia  Oceania\n",
      "1  1996-02-01  0.7556  australia  Oceania\n",
      "2  1996-03-01  0.7714  australia  Oceania\n",
      "3  1996-04-01  0.7857  australia  Oceania\n",
      "4  1996-05-01  0.7970  australia  Oceania\n"
     ]
    }
   ],
   "source": [
    "currency_df = pd.DataFrame()\n",
    "\n",
    "for name in glob.glob('../data/EX*.csv'):\n",
    "    current_df = pd.read_csv(name)\n",
    "    current_df.columns = ['date', 'ex_us']\n",
    "    current_df['country'] = name.split('_')[1]\n",
    "    current_df['Regions'] = name.split('_')[3]\n",
    "    if name.split('_')[1] == \"saudi arabia\":\n",
    "        current_df['ex_us'] = 1\n",
    "    if name.split('_')[2] == \"convert\":\n",
    "        current_df['ex_us'] = 1/current_df['ex_us']\n",
    "        currency_df = currency_df.append(current_df, ignore_index=True).reset_index(drop=True)\n",
    "    else:\n",
    "        currency_df = currency_df.append(current_df, ignore_index=True).reset_index(drop=True)\n",
    "        \n",
    "print(currency_df.shape)\n",
    "print(currency_df.head())"
   ]
  },
  {
   "cell_type": "code",
   "execution_count": 5,
   "metadata": {},
   "outputs": [
    {
     "data": {
      "text/html": [
       "<div>\n",
       "<style scoped>\n",
       "    .dataframe tbody tr th:only-of-type {\n",
       "        vertical-align: middle;\n",
       "    }\n",
       "\n",
       "    .dataframe tbody tr th {\n",
       "        vertical-align: top;\n",
       "    }\n",
       "\n",
       "    .dataframe thead th {\n",
       "        text-align: right;\n",
       "    }\n",
       "</style>\n",
       "<table border=\"1\" class=\"dataframe\">\n",
       "  <thead>\n",
       "    <tr style=\"text-align: right;\">\n",
       "      <th></th>\n",
       "      <th>date</th>\n",
       "      <th>ex_us</th>\n",
       "      <th>country</th>\n",
       "      <th>Regions</th>\n",
       "    </tr>\n",
       "  </thead>\n",
       "  <tbody>\n",
       "    <tr>\n",
       "      <th>0</th>\n",
       "      <td>1996-01-01</td>\n",
       "      <td>0.7417</td>\n",
       "      <td>australia</td>\n",
       "      <td>Oceania</td>\n",
       "    </tr>\n",
       "    <tr>\n",
       "      <th>1</th>\n",
       "      <td>1996-02-01</td>\n",
       "      <td>0.7556</td>\n",
       "      <td>australia</td>\n",
       "      <td>Oceania</td>\n",
       "    </tr>\n",
       "    <tr>\n",
       "      <th>2</th>\n",
       "      <td>1996-03-01</td>\n",
       "      <td>0.7714</td>\n",
       "      <td>australia</td>\n",
       "      <td>Oceania</td>\n",
       "    </tr>\n",
       "    <tr>\n",
       "      <th>3</th>\n",
       "      <td>1996-04-01</td>\n",
       "      <td>0.7857</td>\n",
       "      <td>australia</td>\n",
       "      <td>Oceania</td>\n",
       "    </tr>\n",
       "    <tr>\n",
       "      <th>4</th>\n",
       "      <td>1996-05-01</td>\n",
       "      <td>0.7970</td>\n",
       "      <td>australia</td>\n",
       "      <td>Oceania</td>\n",
       "    </tr>\n",
       "    <tr>\n",
       "      <th>5</th>\n",
       "      <td>1996-06-01</td>\n",
       "      <td>0.7912</td>\n",
       "      <td>australia</td>\n",
       "      <td>Oceania</td>\n",
       "    </tr>\n",
       "    <tr>\n",
       "      <th>6</th>\n",
       "      <td>1996-07-01</td>\n",
       "      <td>0.7897</td>\n",
       "      <td>australia</td>\n",
       "      <td>Oceania</td>\n",
       "    </tr>\n",
       "    <tr>\n",
       "      <th>7</th>\n",
       "      <td>1996-08-01</td>\n",
       "      <td>0.7830</td>\n",
       "      <td>australia</td>\n",
       "      <td>Oceania</td>\n",
       "    </tr>\n",
       "    <tr>\n",
       "      <th>8</th>\n",
       "      <td>1996-09-01</td>\n",
       "      <td>0.7928</td>\n",
       "      <td>australia</td>\n",
       "      <td>Oceania</td>\n",
       "    </tr>\n",
       "    <tr>\n",
       "      <th>9</th>\n",
       "      <td>1996-10-01</td>\n",
       "      <td>0.7918</td>\n",
       "      <td>australia</td>\n",
       "      <td>Oceania</td>\n",
       "    </tr>\n",
       "  </tbody>\n",
       "</table>\n",
       "</div>"
      ],
      "text/plain": [
       "         date   ex_us    country  Regions\n",
       "0  1996-01-01  0.7417  australia  Oceania\n",
       "1  1996-02-01  0.7556  australia  Oceania\n",
       "2  1996-03-01  0.7714  australia  Oceania\n",
       "3  1996-04-01  0.7857  australia  Oceania\n",
       "4  1996-05-01  0.7970  australia  Oceania\n",
       "5  1996-06-01  0.7912  australia  Oceania\n",
       "6  1996-07-01  0.7897  australia  Oceania\n",
       "7  1996-08-01  0.7830  australia  Oceania\n",
       "8  1996-09-01  0.7928  australia  Oceania\n",
       "9  1996-10-01  0.7918  australia  Oceania"
      ]
     },
     "execution_count": 5,
     "metadata": {},
     "output_type": "execute_result"
    }
   ],
   "source": [
    "currency_df.head(10)"
   ]
  },
  {
   "cell_type": "code",
   "execution_count": 4,
   "metadata": {},
   "outputs": [],
   "source": [
    "currency_df.to_csv(\"../data/currency.csv\")"
   ]
  }
 ],
 "metadata": {
  "kernelspec": {
   "display_name": "Python 3",
   "language": "python",
   "name": "python3"
  },
  "language_info": {
   "codemirror_mode": {
    "name": "ipython",
    "version": 3
   },
   "file_extension": ".py",
   "mimetype": "text/x-python",
   "name": "python",
   "nbconvert_exporter": "python",
   "pygments_lexer": "ipython3",
   "version": "3.7.7"
  }
 },
 "nbformat": 4,
 "nbformat_minor": 4
}
